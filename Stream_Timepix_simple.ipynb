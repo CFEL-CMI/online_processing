{
 "cells": [
  {
   "cell_type": "code",
   "execution_count": null,
   "id": "8981933e-6c8a-475d-aeda-c693b19ed6ed",
   "metadata": {
    "jupyter": {
     "source_hidden": true
    },
    "tags": []
   },
   "outputs": [],
   "source": [
    "# Imports\n",
    "import time\n",
    "import numpy as np\n",
    "import pandas as pd\n",
    "\n",
    "import panel as pn\n",
    "import param\n",
    "\n",
    "import asyncio\n",
    "\n",
    "from IPython.lib import backgroundjobs as bg\n",
    "\n",
    "from pymepix.channel.client import Client\n",
    "from pymepix.channel.channel_types import ChannelDataType, Commands\n",
    "import pymepix.config.load_config as cfg\n",
    "\n",
    "import asyncio\n",
    "\n",
    "import holoviews as hv\n",
    "from holoviews import opts\n",
    "from holoviews import streams\n",
    "from holoviews.streams import Pipe\n",
    "from bokeh.plotting import show\n",
    "hv.extension('bokeh')\n",
    "\n"
   ]
  },
  {
   "cell_type": "code",
   "execution_count": null,
   "id": "858cbcd1",
   "metadata": {},
   "outputs": [],
   "source": []
  },
  {
   "cell_type": "markdown",
   "id": "23f78632",
   "metadata": {},
   "source": [
    "## Pymepix Client connection for data receiving ##"
   ]
  },
  {
   "cell_type": "code",
   "execution_count": null,
   "id": "e1ab662d",
   "metadata": {},
   "outputs": [],
   "source": [
    "_channel_address = tuple(cfg.default_cfg.get('tcp_channel', ['127.0.0.1', 5056]))\n",
    "\n",
    "_client = Client(_channel_address , None,)\n",
    "_data_queue = _client.get_queue()\n",
    "_jobs = bg.BackgroundJobManager()"
   ]
  },
  {
   "cell_type": "code",
   "execution_count": null,
   "id": "6543aa20",
   "metadata": {},
   "outputs": [],
   "source": [
    "_DATA_FILTER = None\n",
    "_async_queue = asyncio.Queue()\n",
    "_event_loop = asyncio.get_event_loop()\n",
    "_callback_functions_set = set()\n",
    "\n",
    "_recent_data = None\n",
    "\n",
    "def _register_callback(func):\n",
    "    global _callback_functions_set\n",
    "    if func in _callback_functions_set:\n",
    "        return\n",
    "    callback_functions_set_copy = _callback_functions_set.copy()\n",
    "    for f in callback_functions_set_copy:\n",
    "        if f.__name__ == func.__name__:\n",
    "            _callback_functions_set.remove(f) \n",
    "    _callback_functions_set.add(func)\n",
    "\n",
    "def _unregister_callback(func):\n",
    "    global _callback_functions_set\n",
    "    if func in _callback_functions_set:\n",
    "        _callback_functions_set.remove(func)\n",
    "        \n",
    "def callback(func):\n",
    "    global _register_callback\n",
    "    _register_callback(func)\n",
    "    return func\n",
    "\n",
    "    return wrapper\n",
    "\n",
    "def _convert2df(data):\n",
    "    if data['type'] == ChannelDataType.TOF.value:\n",
    "        data['data'] =  pd.DataFrame(np.vstack(data['data']).T, columns = ['nr','x','y', 'tof','tot'])\n",
    "    elif data['type'] == ChannelDataType.CENTROID.value:\n",
    "        data['data'] = pd.DataFrame(np.vstack(data['data']).T, columns = ['nr','x','y', 'tof','tot_avg', 'tot_max', 'clustersize'])\n",
    "    elif data['type'] == ChannelDataType.PIXEL.value:\n",
    "        data['data'] = pd.DataFrame(np.vstack(data['data']).T, columns = ['x','y', 'tof','tot'])\n",
    "    return data\n",
    "\n",
    "    \n",
    "\n",
    "def _main_loop(data_filter=_DATA_FILTER):\n",
    "    global _async_queue\n",
    "    global _event_loop\n",
    "    global _data_queue\n",
    "    global _recent_data\n",
    "    \n",
    "    while True:\n",
    "    \n",
    "        data = _data_queue.get()\n",
    "        \n",
    "        _recent_data = data\n",
    "\n",
    "        #if DATA_FILTER is not None and data['type'] not in DATA_FILTER:\n",
    "        #    continue\n",
    "\n",
    "        data = _convert2df(data)\n",
    "        \n",
    "        _event_loop.call_soon_threadsafe(_async_queue.put_nowait, data)\n",
    "        \n",
    "        \n",
    "async def _from_queue2callback():\n",
    "    global _async_queue\n",
    "    global _unregister_callback\n",
    "    \n",
    "    while True: \n",
    "        \n",
    "        data = await _async_queue.get()\n",
    "        \n",
    "        functions2unregister = []\n",
    "\n",
    "        for f in _callback_functions_set:\n",
    "            try:\n",
    "                f(data)\n",
    "            except Exception as e:\n",
    "                functions2unregister.append(f)\n",
    "                print(e)\n",
    "                \n",
    "        for f in functions2unregister:\n",
    "            _unregister_callback(f)\n",
    "                \n",
    "\n",
    "                \n",
    "\n",
    "_event_loop.create_task(_from_queue2callback())\n",
    "\n",
    "#_event_loop.call_soon_threadsafe(_from_queue2callback)\n",
    "\n",
    "_jobs.new(_main_loop)"
   ]
  },
  {
   "cell_type": "code",
   "execution_count": null,
   "id": "c80df457",
   "metadata": {},
   "outputs": [],
   "source": [
    "_jobs.status()"
   ]
  },
  {
   "cell_type": "code",
   "execution_count": null,
   "id": "db0bdde5",
   "metadata": {},
   "outputs": [],
   "source": [
    "_jobs.traceback()"
   ]
  },
  {
   "cell_type": "code",
   "execution_count": null,
   "id": "395e0651",
   "metadata": {},
   "outputs": [],
   "source": [
    "_from_queue2callback"
   ]
  },
  {
   "cell_type": "code",
   "execution_count": null,
   "id": "09c7e796",
   "metadata": {},
   "outputs": [],
   "source": [
    "@callback\n",
    "def on_data(in_data):\n",
    "    print(in_data['type'])"
   ]
  },
  {
   "cell_type": "code",
   "execution_count": null,
   "id": "a9ce1e5b",
   "metadata": {},
   "outputs": [],
   "source": []
  },
  {
   "cell_type": "code",
   "execution_count": null,
   "id": "53f7208f",
   "metadata": {},
   "outputs": [],
   "source": []
  },
  {
   "cell_type": "code",
   "execution_count": null,
   "id": "154bab22",
   "metadata": {},
   "outputs": [],
   "source": []
  },
  {
   "cell_type": "code",
   "execution_count": null,
   "id": "14c3ded1",
   "metadata": {},
   "outputs": [],
   "source": []
  }
 ],
 "metadata": {
  "kernelspec": {
   "display_name": "Python 3 (ipykernel)",
   "language": "python",
   "name": "python3"
  },
  "language_info": {
   "codemirror_mode": {
    "name": "ipython",
    "version": 3
   },
   "file_extension": ".py",
   "mimetype": "text/x-python",
   "name": "python",
   "nbconvert_exporter": "python",
   "pygments_lexer": "ipython3",
   "version": "3.8.16"
  }
 },
 "nbformat": 4,
 "nbformat_minor": 5
}
