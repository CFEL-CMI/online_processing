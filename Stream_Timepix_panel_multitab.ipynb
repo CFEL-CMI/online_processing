{
 "cells": [
  {
   "cell_type": "code",
   "execution_count": null,
   "id": "8981933e-6c8a-475d-aeda-c693b19ed6ed",
   "metadata": {
    "jupyter": {
     "source_hidden": true
    },
    "tags": []
   },
   "outputs": [],
   "source": [
    "# Imports\n",
    "import time\n",
    "import copy\n",
    "import numpy as np\n",
    "import pandas as pd\n",
    "\n",
    "import panel as pn\n",
    "import param\n",
    "\n",
    "from pymepix.channel.channel_types import ChannelDataType, Commands\n",
    "\n",
    "from online_data.timepix_monitor.tpx_acquisition import initialize_timepix_monitor, unregister_all\n",
    "from online_data.timepix_monitor.tpx_acquisition import callback\n",
    "\n",
    "import holoviews as hv\n",
    "from holoviews import opts\n",
    "from holoviews import streams\n",
    "from holoviews.streams import Pipe\n",
    "from bokeh.plotting import show\n",
    "\n",
    "hv.extension('bokeh')\n",
    "#pn.extension()"
   ]
  },
  {
   "cell_type": "code",
   "execution_count": null,
   "id": "a48ee5d2",
   "metadata": {},
   "outputs": [],
   "source": [
    "initialize_timepix_monitor()"
   ]
  },
  {
   "cell_type": "markdown",
   "id": "d3ee0e63",
   "metadata": {},
   "source": [
    "## Globals ##"
   ]
  },
  {
   "cell_type": "code",
   "execution_count": null,
   "id": "f3cd41a2",
   "metadata": {},
   "outputs": [],
   "source": [
    "TOF_BINS_NUMBER = 1000\n",
    "TOF_RANGE = 10.0\n",
    "TOF_YLOG = True\n",
    "\n",
    "bins_VMI = (range(0, 256), range(0, 256))\n",
    "H_VMI = np.zeros((255, 255), dtype=float)\n",
    "\n",
    "bins_series = np.linspace(0, TOF_RANGE, TOF_BINS_NUMBER)\n",
    "x_axe = bins_series[:-1]\n",
    "\n",
    "\n",
    "scan_data = []\n",
    "scan_table = pd.DataFrame()\n",
    "\n",
    "\n",
    "full_range_roi_init_data = {\n",
    "    'full_range':{\n",
    "        'tof_roi': (0,TOF_RANGE),\n",
    "        'spatial_roi': ((0,0), (255,255)),\n",
    "        'roi_tof_histo': np.zeros((len(bins_series)-1), dtype=float),\n",
    "        'roi_H_VMI': np.zeros((255, 255), dtype=float),\n",
    "        'roi_color': '#99ef78',\n",
    "        'n_tiggers': 0\n",
    "    }\n",
    "}\n",
    "    \n",
    "scan_data.append(full_range_roi_init_data)  #always at least one record data\n",
    "\n",
    "\n",
    "pipe_roi_scan = Pipe(data=[])\n",
    "pipe_image = Pipe(data=[])\n",
    "pipe_tof = Pipe(data=[])\n",
    "\n",
    "pipe_roi_scan.send(scan_table)\n",
    "pipe_image.send(H_VMI)\n",
    "pipe_tof.send(np.zeros((len(bins_series)-1),) )"
   ]
  },
  {
   "cell_type": "code",
   "execution_count": null,
   "id": "6903aaf3",
   "metadata": {},
   "outputs": [],
   "source": []
  },
  {
   "cell_type": "code",
   "execution_count": null,
   "id": "87ca19f7",
   "metadata": {},
   "outputs": [],
   "source": []
  },
  {
   "cell_type": "markdown",
   "id": "f0076cda",
   "metadata": {},
   "source": [
    "### Image&Spectrum panel  ###"
   ]
  },
  {
   "cell_type": "code",
   "execution_count": null,
   "id": "53c962a6",
   "metadata": {},
   "outputs": [],
   "source": [
    "def on_roi_select_change(Event):\n",
    "    pass    \n",
    "\n",
    "def reset_button_callback(Event):\n",
    "    global scan_data, scan_table\n",
    "    \n",
    "    newRecord = copy.deepcopy(scan_data[-1])\n",
    "    for roi_name, roi_record in newRecord.items():\n",
    "        roi_record['roi_tof_histo'] = np.zeros((len(bins_series)-1), dtype=float)\n",
    "        roi_record['roi_H_VMI'] =  np.zeros((255, 255), dtype=float)\n",
    "        roi_record['n_tiggers'] = 0\n",
    "    scan_data=[newRecord]\n",
    "    scan_table = pd.DataFrame()\n",
    "    \n",
    "\n",
    "roi_select = pn.widgets.MultiChoice(\n",
    "    name='ToF/mass ROI', value=list(scan_data[-1].keys()),\n",
    "    options=list(scan_data[-1].keys()),)\n",
    "\n",
    "reset_button = pn.widgets.Button(name='Reset', button_type='primary')\n",
    "reset_button.on_click(reset_button_callback)\n",
    "\n",
    "roi_select.param.watch(on_roi_select_change, 'value')"
   ]
  },
  {
   "cell_type": "markdown",
   "id": "ca28fe24",
   "metadata": {},
   "source": [
    "### mass calibration panel ###"
   ]
  },
  {
   "cell_type": "code",
   "execution_count": null,
   "id": "47a70410",
   "metadata": {},
   "outputs": [],
   "source": [
    "mass_calibration_data = None # otherwise it is tuple(A, t0), m=A(t-t0)\n",
    "\n",
    "time_point1 = pn.widgets.FloatInput(name='Time 1', value=0., start=0, end=TOF_RANGE)\n",
    "time_point2 = pn.widgets.FloatInput(name='Time 2', value=0., start=0, end=TOF_RANGE)\n",
    "mass_point1 = pn.widgets.FloatInput(name='Mass 1', value=0.,)\n",
    "mass_point2 = pn.widgets.FloatInput(name='Mass 2', value=0.,)\n",
    "\n",
    "def calculate_mass_from_tof(time_series):\n",
    "    if mass_calibration_data != None:\n",
    "        return mass_calibration_data[0]*pow((time_series - mass_calibration_data[1]),2)\n",
    "    return time_series\n",
    "\n",
    "def mass_calibrate_callback(Event):\n",
    "    global mass_calibration_data, bins_series, x_axe\n",
    "    \n",
    "    mass1_sqrt = pow(mass_point1.value,0.5)\n",
    "    mass2_sqrt = pow(mass_point2.value,0.5)\n",
    "    \n",
    "    t0 = (mass2_sqrt*time_point1.value - mass1_sqrt*time_point2.value)/(mass2_sqrt-mass1_sqrt)\n",
    "    A = mass_point2.value/pow((time_point2.value - t0),2)\n",
    "    \n",
    "    mass_calibration_data = (A, t0)\n",
    "    \n",
    "    mass_calib_string.value = f'{A}  {t0}'\n",
    "    \n",
    "    bins_series = np.linspace(0, TOF_RANGE, TOF_BINS_NUMBER)\n",
    "    bins_series = calculate_mass_from_tof(bins_series)\n",
    "    \n",
    "    min_mass_index = np.argmin(bins_series)\n",
    "    if min_mass_index > 0:\n",
    "        bins_series[:min_mass_index] = -bins_series[:min_mass_index]\n",
    "   \n",
    "    x_axe = bins_series[:-1]\n",
    "\n",
    "def reset_calibration_callback(Event):\n",
    "    global mass_calibration_data, bins_series, x_axe\n",
    "    mass_calibration_data = None\n",
    "    bins_series = np.linspace(0, TOF_RANGE, TOF_BINS_NUMBER)\n",
    "    x_axe = bins_series[:-1]\n",
    "    mass_calib_string.value = 'None'\n",
    "\n",
    "mass_calibrate_button = pn.widgets.Button(name='Calibrate ToF spectra', button_type='primary')\n",
    "mass_calibrate_button.on_click(mass_calibrate_callback)\n",
    "\n",
    "reset_calibration_button = pn.widgets.Button(name='Reset mass calibration', button_type='primary')\n",
    "reset_calibration_button.on_click(reset_calibration_callback)\n",
    "\n",
    "mass_calib_string = pn.widgets.StaticText(name='Calibration const.', value='None')\n",
    "\n"
   ]
  },
  {
   "cell_type": "markdown",
   "id": "833945f0",
   "metadata": {},
   "source": [
    "### ROI management panel ###"
   ]
  },
  {
   "cell_type": "code",
   "execution_count": null,
   "id": "eb2146ad",
   "metadata": {},
   "outputs": [],
   "source": [
    "m1_point = pn.widgets.FloatInput(name='m1', value=0., start=0)\n",
    "m2_point = pn.widgets.FloatInput(name='m2', value=0., start=0)\n",
    "\n",
    "x1_point = pn.widgets.IntInput(name='X1', value=0,   start=0, end=255)\n",
    "x2_point = pn.widgets.IntInput(name='X2', value=255, start=0, end=255)\n",
    "y1_point = pn.widgets.IntInput(name='Y1', value=0,   start=0, end=255)\n",
    "y2_point = pn.widgets.IntInput(name='Y2', value=255, start=0, end=255)\n",
    "\n",
    "text_input_roi_name = pn.widgets.TextInput(name='ROI name', placeholder='Enter the name of ROI here...')\n",
    "\n",
    "colorpicker = pn.widgets.ColorPicker(name='ROI color', value='#99ef78')\n",
    "\n",
    "def add_roi_callback(Event):\n",
    "    new_roi= {\n",
    "            'tof_roi': (m1_point.value, m2_point.value),\n",
    "            'spatial_roi': ((x1_point.value,y1_point.value), (x2_point.value,y2_point.value)),\n",
    "            'roi_tof_histo': np.zeros((len(bins_series)-1), dtype=float),\n",
    "            'roi_H_VMI': np.zeros((255, 255), dtype=float),\n",
    "            'roi_color': colorpicker.value,\n",
    "            'n_tiggers': 0\n",
    "    }\n",
    "    \n",
    "    scan_data[-1][text_input_roi_name.value] = new_roi\n",
    "    \n",
    "    if not (text_input_roi_name.value in roi_select.options):\n",
    "        options_list = roi_select.options.copy()\n",
    "        options_list.append(text_input_roi_name.value)\n",
    "        roi_select.options = []\n",
    "        roi_select.options = options_list\n",
    "    \n",
    "\n",
    "def remove_roi_by_name_callback(Event):\n",
    "    del scan_data[-1][text_input_roi_name.value]\n",
    "    if text_input_roi_name in roi_select.options:\n",
    "        options_list = roi_select.options.copy()\n",
    "        options_list.append(text_input_roi_name.value)\n",
    "        roi_select.options = []\n",
    "        roi_select.options = options_list\n",
    "        roi_select.values = []\n",
    "  \n",
    "\n",
    "\n",
    "add_roi_button = pn.widgets.Button(name='Add ROI', button_type='primary')\n",
    "add_roi_button.on_click(add_roi_callback)\n",
    "\n",
    "remove_roi_by_name_button = pn.widgets.Button(name='Remove ROI by name', button_type='primary')\n",
    "remove_roi_by_name_button.on_click(remove_roi_by_name_callback)\n",
    "\n",
    "\n"
   ]
  },
  {
   "cell_type": "code",
   "execution_count": null,
   "id": "bebe7da9",
   "metadata": {},
   "outputs": [],
   "source": []
  },
  {
   "cell_type": "markdown",
   "id": "4669f009",
   "metadata": {},
   "source": [
    "## Main callback routine where the data processing takes place ##"
   ]
  },
  {
   "cell_type": "code",
   "execution_count": null,
   "id": "586b4c5f",
   "metadata": {},
   "outputs": [],
   "source": [
    "@callback\n",
    "def main_loop(in_data):\n",
    "    \n",
    "    #global tof_accu\n",
    "    global x_axe\n",
    "    global scan_data\n",
    "    global scan_table\n",
    "    global roi_select\n",
    "    \n",
    "    if not in_data['type'] in [ChannelDataType.TOF.value, ChannelDataType.COMMAND.value]:\n",
    "        return\n",
    "\n",
    "    if in_data['type'] == ChannelDataType.TOF.value:\n",
    "        \n",
    "        last_record_data = scan_data[-1]\n",
    "        \n",
    "        tof_data = in_data['data']\n",
    "        mass_series = calculate_mass_from_tof(np.copy(tof_data['tof']*1e6)) #timeseries is in microseconds, mass calibration\n",
    "        \n",
    "        \n",
    "        last_record_data['full_range']['roi_H_VMI'] += np.histogram2d(tof_data['x'], tof_data['y'], bins=bins_VMI)[0]\n",
    "        for roi_key, roi_val in last_record_data.items():\n",
    "            roi_indxs = np.logical_and(mass_series>roi_val['tof_roi'][0], mass_series<roi_val['tof_roi'][1])\n",
    "            roi_val['roi_H_VMI'] += np.histogram2d(tof_data['x'][roi_indxs], tof_data['y'][roi_indxs], bins=bins_VMI)[0]\n",
    "\n",
    "\n",
    "        if roi_select.value == ['full_range']:\n",
    "            roi_H_VMI = last_record_data['full_range']['roi_H_VMI']\n",
    "        else:\n",
    "            roi_H_VMI = np.zeros((255, 255), dtype=float)\n",
    "            for roi_key, roi_val in last_record_data.items():\n",
    "                if roi_key == 'full_range':\n",
    "                    continue\n",
    "                if roi_key in roi_select.value:\n",
    "                    roi_H_VMI += roi_val['roi_H_VMI']\n",
    "        pipe_image.send(roi_H_VMI)\n",
    "\n",
    "        last_record_data['full_range']['roi_tof_histo'] += np.histogram(mass_series, bins=bins_series)[0]/len(np.unique(tof_data['nr']))\n",
    "        series_data = last_record_data['full_range']['roi_tof_histo']\n",
    "        pipe_tof.send(series_data/max(series_data.max(),1))\n",
    "        \n",
    "        last_record_data['full_range']['n_tiggers'] += len(np.unique(tof_data['nr']))\n",
    "        return\n",
    "\n",
    "\n",
    "    if in_data['type'] == ChannelDataType.COMMAND.value:  \n",
    "        \n",
    "        if in_data['data'] == Commands.START_RECORD.value:\n",
    "            # init new record data with all ROIs\n",
    "            newRecord = copy.deepcopy(scan_data[-1])\n",
    "            for roi_name, roi_record in newRecord.items():\n",
    "                roi_record['roi_tof_histo'] = np.zeros((len(bins_series)-1), dtype=float)\n",
    "                roi_record['roi_H_VMI'] =  np.zeros((255, 255), dtype=float)\n",
    "                roi_record['n_tiggers'] = 0\n",
    "            scan_data.append(newRecord)\n",
    "\n",
    "        elif in_data['data'] == Commands.STOP_RECORD.value:\n",
    "            # fill data frame with data from ROIs\n",
    "            \n",
    "            vals = []\n",
    "            roi_names = []\n",
    "            for roi_name, roi_record in scan_data[-1].items():\n",
    "                roi_names.append(roi_name)\n",
    "                if roi_name == 'full_range':\n",
    "                    continue\n",
    "                val = 0\n",
    "                if roi_record['n_tiggers'] > 0:\n",
    "                    pix_roi = roi_record['spatial_roi']\n",
    "                    val = roi_record['roi_H_VMI'][pix_roi[0][0]:pix_roi[1][0], pix_roi[0][1]:pix_roi[1][1]]\n",
    "                    val = np.sum(val)/roi_record['n_tiggers']\n",
    "                    vals.append(val)\n",
    "\n",
    "            if scan_table.empty:\n",
    "                scan_table = pd.DataFrame(columns=roi_names)\n",
    "            scan_table.loc[len(scan_table.index)] = [len(scan_data)] + vals\n",
    "                    \n",
    "            #pipe_roi_scan.send(scan_table)\n",
    "        return"
   ]
  },
  {
   "cell_type": "markdown",
   "id": "93dc5288",
   "metadata": {},
   "source": [
    "## Panel GUI, server start ##"
   ]
  },
  {
   "cell_type": "code",
   "execution_count": null,
   "id": "2c5264cf",
   "metadata": {},
   "outputs": [],
   "source": [
    "selected_rois = None\n",
    "\n",
    "def make_roi_scan_plot(data):\n",
    "    #got dataframe\n",
    "    if(data.empty):\n",
    "        return hv.Curve(data=[0])\n",
    "    \n",
    "        \n",
    "    roi_indxs = [roi_select.options.index(i) for i in roi_select.value]\n",
    "\n",
    "    xmax = np.max(data[:,0])\n",
    "    xmin = np.min(data[:,0])\n",
    "    ymax = np.max(data[:,np.array(roi_indxs)+1])\n",
    "    ymin = np.min(data[:,np.array(roi_indxs)+1])\n",
    "\n",
    "    if xmax==xmin:\n",
    "        xlimits = (xmax-1,xmax+1,)\n",
    "    else:\n",
    "        xrange = xmax-xmin\n",
    "        xlimits = (xmin - xrange*0.1,xmax+xrange*0.1,)\n",
    "\n",
    "    if ymax==ymin:\n",
    "        ylimits = (ymax-1,ymax+1,)\n",
    "    else:\n",
    "        yrange = ymax-ymin\n",
    "        ylimits = (ymin - yrange*0.1,ymax+yrange*0.1,)\n",
    "\n",
    "    colors=[i[2] for i in list(Element_ROI.values())]\n",
    "    curves=[hv.Curve((data[:,0],data[:,i+1])).opts(xlabel='scan num.', ylabel='amplitude, [au]', width=600, height=450, show_grid=True, tools=['hover'], \n",
    "                                                   color=colors[i], xlim=xlimits, ylim=ylimits, axiswise=True, framewise=True,)*hv.Scatter((data[:,0],data[:,i+1])).opts(xlabel='scan num.', \n",
    "                                                   ylabel='amplitude, [au]', width=600, height=450, show_grid=True, tools=['hover'], color=colors[i], xlim=xlimits, ylim=ylimits, axiswise=True, \n",
    "                                                   framewise=True, size=10) for i in roi_indxs]\n",
    "\n",
    "    \n",
    "    \n",
    "def make_image_plot(data):\n",
    "    #print('got image data')\n",
    "    #print(data)\n",
    "    p = hv.Image((range(256), range(256), data.T), bounds=[bins_VMI[0][0], bins_VMI[1][0], bins_VMI[0][-1], \\\n",
    "                                        bins_VMI[1][-1]],).opts(xlabel='x', ylabel='y', axiswise=True, \\\n",
    "                                        logz=True, clim=(1e-3, None), cmap=\"jet\", frame_height=500, \\\n",
    "                                        frame_width=500)\n",
    "    return p\n",
    "\n",
    "def make_tof_histo_plot(data):\n",
    "    global roi_select, selected_rois\n",
    "    \n",
    "    last_roi_data = scan_data[-1]\n",
    " \n",
    "    selected_rois = [(last_roi_data[i]['tof_roi'], last_roi_data[i]['roi_color']) for i in roi_select.value if i != 'full_range']\n",
    "    \n",
    "    if mass_calibration_data == None:\n",
    "        xlabel='ToF (µs)'\n",
    "    else:\n",
    "        xlabel='Mass (amu)'\n",
    "        \n",
    "    ylabel='Normalized amplitude'\n",
    "    \n",
    "    p_log = hv.Curve((x_axe, data)).opts(xlabel=xlabel, ylabel=ylabel, axiswise=True, height=400,\\\n",
    "                                     width=1200, show_grid=True, tools=['hover'], ylim=(1e-7,1),xlim=(x_axe[0],\\\n",
    "                                     x_axe[-1]), logy=TOF_YLOG)\n",
    "    \n",
    "    \n",
    "    #rng = hv.streams.RangeY(source=p)\n",
    "    \n",
    "    mass_rois = [hv.Rectangles((i[0], 1e-7, i[1], 1)).opts(alpha=0.3, color=c) for i, c in selected_rois]\n",
    "    #mass_rois = [hv.Rectangles((i[0], rng[0], i[1], rng[1])).opts(alpha=0.3, color=c) for i, c in selected_rois]\n",
    "    return p_log * hv.Overlay(mass_rois)\n",
    "\n",
    "image_tof_panel = pn.Row(pn.Column(roi_select, reset_button),\n",
    "                         pn.Column(hv.DynamicMap(make_image_plot, streams=[pipe_image]),\n",
    "                                   hv.DynamicMap(make_tof_histo_plot,  streams=[pipe_tof])))\n",
    "\n",
    "scan_panel = pn.Row(hv.DynamicMap(make_roi_scan_plot, streams=[pipe_roi_scan]))\n",
    "\n",
    "mass_calibrate_panel = pn.Row(pn.Column(time_point1, time_point2, mass_point1, mass_point2,\\\n",
    "                                mass_calibrate_button, reset_calibration_button, mass_calib_string),\n",
    "                                pn.Column(hv.DynamicMap(make_tof_histo_plot,\\\n",
    "                                                                            streams=[pipe_tof])))\n",
    "\n",
    "roi_panel = pn.Row(pn.Column(m1_point, m2_point, x1_point, x2_point, y1_point,\\\n",
    "                            y2_point,text_input_roi_name, colorpicker, add_roi_button,\\\n",
    "                            remove_roi_by_name_button), pn.Column(hv.DynamicMap(make_image_plot,\\\n",
    "                            streams=[pipe_image]), hv.DynamicMap(make_tof_histo_plot,  streams=[pipe_tof])))\n",
    "\n",
    "\n",
    "   \n",
    "pn.serve( pn.Tabs(( 'Image&Spectrum' , image_tof_panel),\n",
    "                  ('Scan', scan_panel),\n",
    "                  ('ROI', roi_panel),\n",
    "                  ('Mass calibr.', mass_calibrate_panel),\n",
    "                  ('New panel', hv.Curve([])),\n",
    "                  dynamic=True))\n",
    "\n",
    "#         port=SERVE_PORT)"
   ]
  },
  {
   "cell_type": "code",
   "execution_count": null,
   "id": "d6f7855c",
   "metadata": {},
   "outputs": [],
   "source": []
  },
  {
   "cell_type": "code",
   "execution_count": null,
   "id": "b1fb9466",
   "metadata": {},
   "outputs": [],
   "source": []
  },
  {
   "cell_type": "code",
   "execution_count": null,
   "id": "9d93af6f",
   "metadata": {},
   "outputs": [],
   "source": []
  },
  {
   "cell_type": "markdown",
   "id": "445df145",
   "metadata": {},
   "source": [
    "roi_select = pn.widgets.MultiChoice(\n",
    "    name='ToF/mass ROI', value=[],\n",
    "    options=['1', '2'],)\n",
    "roi_select "
   ]
  },
  {
   "cell_type": "markdown",
   "id": "95e90244",
   "metadata": {},
   "source": [
    "roi_select.value = []\n",
    "roi_select.options = ['7']"
   ]
  },
  {
   "cell_type": "code",
   "execution_count": null,
   "id": "82a746f8",
   "metadata": {
    "scrolled": true
   },
   "outputs": [],
   "source": [
    "#roi_select.param.update()"
   ]
  },
  {
   "cell_type": "code",
   "execution_count": null,
   "id": "411d06d1",
   "metadata": {},
   "outputs": [],
   "source": [
    "#roi_select.params"
   ]
  },
  {
   "cell_type": "code",
   "execution_count": null,
   "id": "491547fe",
   "metadata": {},
   "outputs": [],
   "source": [
    "#scan_data[-1].keys()"
   ]
  },
  {
   "cell_type": "code",
   "execution_count": null,
   "id": "faf3ce72",
   "metadata": {},
   "outputs": [],
   "source": [
    "#roi_select.values=['Oxygen']"
   ]
  },
  {
   "cell_type": "code",
   "execution_count": null,
   "id": "0a907ebe",
   "metadata": {},
   "outputs": [],
   "source": [
    "#roi_select.options = ['full_range', 'Oxygen']"
   ]
  },
  {
   "cell_type": "code",
   "execution_count": null,
   "id": "ddaf06a9",
   "metadata": {},
   "outputs": [],
   "source": [
    "x=(0,150)\n",
    "y=(90,256)\n"
   ]
  },
  {
   "cell_type": "code",
   "execution_count": null,
   "id": "ba71b4c4",
   "metadata": {},
   "outputs": [],
   "source": [
    "hv.Image((range(256), range(256), scan_data[-1]['full_range']['roi_H_VMI'].T)).opts(xlabel='x', ylabel='y', axiswise=True, logz=True, clim=(1e-3, None), cmap=\"jet\", frame_height=500, frame_width=500)"
   ]
  },
  {
   "cell_type": "code",
   "execution_count": null,
   "id": "8f257eda",
   "metadata": {},
   "outputs": [],
   "source": [
    "x = (110,160)\n",
    "y = (0,256)\n",
    "\n",
    "hv.Image((range(x[0],x[1]), range(y[0],y[1]), scan_data[-1]['full_range']['roi_H_VMI'][x[0]:x[1], y[0]:y[1]].T )).opts(xlabel='x', ylabel='y', axiswise=True, logz=True, clim=(1e-3, None), cmap=\"jet\", frame_height=500, frame_width=500)"
   ]
  },
  {
   "cell_type": "code",
   "execution_count": null,
   "id": "9f1878f9",
   "metadata": {},
   "outputs": [],
   "source": []
  },
  {
   "cell_type": "code",
   "execution_count": null,
   "id": "48370516",
   "metadata": {},
   "outputs": [],
   "source": [
    "scan_table"
   ]
  },
  {
   "cell_type": "code",
   "execution_count": null,
   "id": "96855872",
   "metadata": {},
   "outputs": [],
   "source": [
    "scan_data[-1]"
   ]
  },
  {
   "cell_type": "code",
   "execution_count": null,
   "id": "85f1c529",
   "metadata": {},
   "outputs": [],
   "source": []
  }
 ],
 "metadata": {
  "kernelspec": {
   "display_name": "Python 3 (ipykernel)",
   "language": "python",
   "name": "python3"
  },
  "language_info": {
   "codemirror_mode": {
    "name": "ipython",
    "version": 3
   },
   "file_extension": ".py",
   "mimetype": "text/x-python",
   "name": "python",
   "nbconvert_exporter": "python",
   "pygments_lexer": "ipython3",
   "version": "3.8.10"
  }
 },
 "nbformat": 4,
 "nbformat_minor": 5
}
