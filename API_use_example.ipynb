{
 "cells": [
  {
   "cell_type": "markdown",
   "id": "75150a08",
   "metadata": {},
   "source": [
    "### The notebook demonstrates how to communicate with RestAPI of pymepix. ##"
   ]
  },
  {
   "cell_type": "code",
   "execution_count": null,
   "id": "08cc3b72",
   "metadata": {},
   "outputs": [],
   "source": [
    "import requests"
   ]
  },
  {
   "cell_type": "code",
   "execution_count": null,
   "id": "a6a86382",
   "metadata": {},
   "outputs": [],
   "source": []
  },
  {
   "cell_type": "markdown",
   "id": "15daaab3",
   "metadata": {},
   "source": [
    "#### Testing if the server is running #### "
   ]
  },
  {
   "cell_type": "code",
   "execution_count": null,
   "id": "94411a50",
   "metadata": {},
   "outputs": [],
   "source": [
    "response = requests.get(\"http://localhost:8080\")\n",
    "print(response)\n",
    "print(response.text)"
   ]
  },
  {
   "cell_type": "markdown",
   "id": "79c3a4f7",
   "metadata": {},
   "source": [
    "#### Reading the parameter (biasVoltage) of timepix_connection class ####"
   ]
  },
  {
   "cell_type": "code",
   "execution_count": null,
   "id": "47f8449c",
   "metadata": {},
   "outputs": [],
   "source": [
    "args = {\"param_name\": \"biasVoltage\"}\n",
    "response = requests.get(\"http://localhost:8080/tpxproperty\", data=args)\n",
    "print(response)\n",
    "print(response.text)"
   ]
  },
  {
   "cell_type": "code",
   "execution_count": null,
   "id": "ddd89ea8",
   "metadata": {},
   "outputs": [],
   "source": []
  },
  {
   "cell_type": "markdown",
   "id": "5e0eecf3",
   "metadata": {},
   "source": [
    "#### Setting the pbiasVoltage to 60 V ####"
   ]
  },
  {
   "cell_type": "code",
   "execution_count": null,
   "id": "c3228a19",
   "metadata": {},
   "outputs": [],
   "source": [
    "data_json = {\"biasVoltage\": 60}\n",
    "response = requests.post(\"http://localhost:8080/tpxproperty\", json=data_json)\n",
    "print(response)\n",
    "print(response.text)"
   ]
  },
  {
   "cell_type": "code",
   "execution_count": null,
   "id": "d2dd5c03",
   "metadata": {},
   "outputs": [],
   "source": []
  },
  {
   "cell_type": "markdown",
   "id": "c19a920f",
   "metadata": {},
   "source": [
    "#### Starting pymepix ####"
   ]
  },
  {
   "cell_type": "code",
   "execution_count": null,
   "id": "590932cd",
   "metadata": {},
   "outputs": [],
   "source": [
    "data_json = {\"func_name\": \"start\"}\n",
    "response = requests.post(\"http://localhost:8080/tpxmethod\", json=data_json)\n",
    "print(response)\n",
    "print(response.text)"
   ]
  },
  {
   "cell_type": "code",
   "execution_count": null,
   "id": "a5c1274e",
   "metadata": {},
   "outputs": [],
   "source": []
  },
  {
   "cell_type": "markdown",
   "id": "79992310",
   "metadata": {},
   "source": [
    "#### Stopping pymepix ####"
   ]
  },
  {
   "cell_type": "code",
   "execution_count": null,
   "id": "28f5723d",
   "metadata": {},
   "outputs": [],
   "source": [
    "data_json = {\"func_name\": \"stop\"}\n",
    "response = requests.post(\"http://localhost:8080/tpxmethod\", json=data_json)\n",
    "print(response)\n",
    "print(response.text)"
   ]
  },
  {
   "cell_type": "code",
   "execution_count": null,
   "id": "7e2a817c",
   "metadata": {},
   "outputs": [],
   "source": []
  },
  {
   "cell_type": "markdown",
   "id": "34af072a",
   "metadata": {},
   "source": [
    "#### Changing the parameter of packet processor, setting handle_events to True ####"
   ]
  },
  {
   "cell_type": "code",
   "execution_count": null,
   "id": "f9708ab9",
   "metadata": {},
   "outputs": [],
   "source": [
    "handle_events = False\n",
    "\n",
    "data_json = {\"func_name\": \"stop\"}\n",
    "response = requests.post(\"http://localhost:8080/tpxmethod\", json=data_json)\n",
    "\n",
    "data_json = {\"[0].acquisition.packet_processor.handle_events\": handle_events}\n",
    "response = requests.post(\"http://localhost:8080/tpxproperty\", json=data_json)\n",
    "\n",
    "data_json = {\"func_name\": \"start\"}\n",
    "response = requests.post(\"http://localhost:8080/tpxmethod\", json=data_json)\n",
    "\n"
   ]
  },
  {
   "cell_type": "code",
   "execution_count": null,
   "id": "eecc805f",
   "metadata": {},
   "outputs": [],
   "source": []
  },
  {
   "cell_type": "markdown",
   "id": "f8881152",
   "metadata": {},
   "source": [
    "#### Reading the centroiding parameter epsilon (DBscan) ####"
   ]
  },
  {
   "cell_type": "code",
   "execution_count": null,
   "id": "28105336",
   "metadata": {},
   "outputs": [],
   "source": [
    "args = {\"param_name\": \"[0].acquisition.centroid_calculator._epsilon.value\"}\n",
    "response = requests.get(\"http://localhost:8080/tpxproperty\", data=args)\n",
    "print(response)\n",
    "print(response.text)"
   ]
  },
  {
   "cell_type": "code",
   "execution_count": null,
   "id": "f69e85ff",
   "metadata": {},
   "outputs": [],
   "source": []
  },
  {
   "cell_type": "markdown",
   "id": "650a847c",
   "metadata": {},
   "source": [
    "#### Setting the centroiding parameter epsilon (DBscan) to 2.5 ####"
   ]
  },
  {
   "cell_type": "code",
   "execution_count": null,
   "id": "8e6e0a83",
   "metadata": {},
   "outputs": [],
   "source": [
    "data_json = {\"[0].acquisition.centroid_calculator._epsilon.value\": 2.5}\n",
    "response = requests.post(\"http://localhost:8080/tpxproperty\", json=data_json)\n",
    "print(response)\n",
    "print(response.text)"
   ]
  },
  {
   "cell_type": "code",
   "execution_count": null,
   "id": "e0d3dda7",
   "metadata": {},
   "outputs": [],
   "source": []
  },
  {
   "cell_type": "markdown",
   "id": "8488f02c",
   "metadata": {},
   "source": [
    "#### Setting the number of Blob Processes ####"
   ]
  },
  {
   "cell_type": "code",
   "execution_count": null,
   "id": "dc255b83",
   "metadata": {},
   "outputs": [],
   "source": [
    "num_processes = 8\n",
    "#self._timepix.stop()\n",
    "#self._timepix[0].acquisition.numBlobProcesses = number_processes\n",
    "#self._timepix.start()\n",
    "        \n",
    "data_json = {\"func_name\": \"stop\"}\n",
    "response = requests.post(\"http://localhost:8080/tpxmethod\", json=data_json)\n",
    "print(response)\n",
    "print(response.text)\n",
    "        \n",
    "data_json = {\"[0].acquisition.numBlobProcesses\": num_processes}\n",
    "response = requests.post(\"http://localhost:8080/tpxproperty\", json=data_json)\n",
    "print(response)\n",
    "print(response.text)\n",
    "\n",
    "data_json = {\"func_name\": \"start\"}\n",
    "response = requests.post(\"http://localhost:8080/tpxmethod\", json=data_json)\n",
    "print(response)\n",
    "print(response.text)"
   ]
  },
  {
   "cell_type": "code",
   "execution_count": null,
   "id": "fb2abb96",
   "metadata": {},
   "outputs": [],
   "source": []
  }
 ],
 "metadata": {
  "kernelspec": {
   "display_name": "Python 3 (ipykernel)",
   "language": "python",
   "name": "python3"
  },
  "language_info": {
   "codemirror_mode": {
    "name": "ipython",
    "version": 3
   },
   "file_extension": ".py",
   "mimetype": "text/x-python",
   "name": "python",
   "nbconvert_exporter": "python",
   "pygments_lexer": "ipython3",
   "version": "3.8.10"
  }
 },
 "nbformat": 4,
 "nbformat_minor": 5
}
