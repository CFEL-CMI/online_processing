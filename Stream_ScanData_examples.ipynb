{
 "cells": [
  {
   "cell_type": "code",
   "execution_count": null,
   "id": "e18263f9",
   "metadata": {},
   "outputs": [],
   "source": [
    "from online_data.scan_monitor.scan_acquisition import callback\n",
    "from online_data.scan_monitor.scan_acquisition import initialize_scan_monitor\n",
    "from online_data.scan_monitor.scan_acquisition import unregister_all\n",
    "\n",
    "import holoviews as hv\n",
    "from holoviews import opts\n",
    "from holoviews import streams\n",
    "from holoviews.streams import Pipe\n",
    "from bokeh.plotting import show\n",
    "hv.extension('bokeh')\n",
    "\n",
    "import numpy as np"
   ]
  },
  {
   "cell_type": "code",
   "execution_count": null,
   "id": "13faf936",
   "metadata": {},
   "outputs": [],
   "source": [
    "initialize_scan_monitor()"
   ]
  },
  {
   "cell_type": "code",
   "execution_count": null,
   "id": "105854d9",
   "metadata": {},
   "outputs": [],
   "source": [
    "unregister_all() #unregisters all callback functions"
   ]
  },
  {
   "cell_type": "code",
   "execution_count": null,
   "id": "d87db659",
   "metadata": {},
   "outputs": [],
   "source": []
  },
  {
   "cell_type": "markdown",
   "id": "99da7d3d",
   "metadata": {},
   "source": [
    "## example of plotting 1d data from digitizer ##"
   ]
  },
  {
   "cell_type": "code",
   "execution_count": null,
   "id": "85775c1b",
   "metadata": {},
   "outputs": [],
   "source": [
    "\"\"\"Plotting 1d data\"\"\"\n",
    "\n",
    "spectrum_data_buffer_example1 = Pipe(data=([], ''))\n",
    "\n",
    "@callback\n",
    "def on_data_example1(in_data):\n",
    "    \n",
    "    #print('IN DATA: ', in_data)\n",
    "    \n",
    "    global spectrum_data_buffer\n",
    "    \n",
    "    if in_data['type'] == 'data_desc': # Started new scan, got data description\n",
    "        #print('Started new scan')\n",
    "        return\n",
    "    \n",
    "    if in_data['type'] == 'record_end': # End of scan\n",
    "        #print('Scan ended')\n",
    "        return\n",
    "    \n",
    "    if in_data['type'] == 'record_data': # Record data\n",
    "        records_dict = in_data['records']\n",
    "        records_indxs = list(records_dict.keys())\n",
    "        last_record = records_dict[records_indxs[-1]]\n",
    "        data_sources = list(last_record.data.keys()) # list of data sources in recordsData\n",
    "        last_1d_data = last_record.data[data_sources[0]] # taking the last one in the actual used Measurement Group only a digitizer is utilized\n",
    "        spectrum_data_buffer_example1.send((last_1d_data, ''))\n",
    "        \n",
    "        \n",
    "def spectrum_plot_example1(data):\n",
    "    \n",
    "    timeseries_data, text = data\n",
    "    \n",
    "    return hv.Curve(timeseries_data).opts(xlabel='Time', ylabel='Intensity (mV)', width=900, height=600) #, framewise=True)\n",
    "\n",
    "\n"
   ]
  },
  {
   "cell_type": "code",
   "execution_count": null,
   "id": "b4fd2ea2",
   "metadata": {},
   "outputs": [],
   "source": [
    "hv.DynamicMap(spectrum_plot_example1, streams=[spectrum_data_buffer_example1])"
   ]
  },
  {
   "cell_type": "code",
   "execution_count": null,
   "id": "9a8811b4",
   "metadata": {},
   "outputs": [],
   "source": [
    "#"
   ]
  },
  {
   "cell_type": "markdown",
   "id": "955b24ab",
   "metadata": {},
   "source": [
    "## Example of plotting an integrated intensity of peak as a function of scan ##"
   ]
  },
  {
   "cell_type": "markdown",
   "id": "18d3077a",
   "metadata": {},
   "source": [
    "Example demonstrate how to plot a data received from scan as a function of position of motor/movable."
   ]
  },
  {
   "cell_type": "code",
   "execution_count": null,
   "id": "5b551104",
   "metadata": {},
   "outputs": [],
   "source": [
    "\"\"\"Plotting integrated data\"\"\"\n",
    "\n",
    "scan_data_buffer_example2=Pipe(data=([], ''))\n",
    "\n",
    "intergation_range = (50,100)\n",
    "integration_data = [] # x, y\n",
    "\n",
    "movable_name = None\n",
    "\n",
    "@callback\n",
    "def on_data_example2(in_data):\n",
    "    \n",
    "    global scan_data_buffer2\n",
    "    global integration_range\n",
    "    global background_range\n",
    "    global integration_data\n",
    "    \n",
    "    global movable_name\n",
    "    \n",
    "    #print('IN DATA: ', in_data)\n",
    "    \n",
    "    if in_data['type'] == 'data_desc': # Started new scan, got data description\n",
    "        #print('Started new scan')\n",
    "        integration_data = []                \n",
    "        movable_name = in_data['data']['ref_moveables'][0]\n",
    "        return\n",
    "    \n",
    "    if in_data['type'] == 'record_end': # End of scan\n",
    "        #print('Scan ended')\n",
    "        return\n",
    "    \n",
    "    if in_data['type'] == 'record_data' and movable_name is not None: # Record data\n",
    "        \n",
    "        #integration_data[0].append(in_data['data'][movable_name])\n",
    "        records_dict = in_data['records']\n",
    "        records_indxs = list(records_dict.keys())\n",
    "        last_record = records_dict[records_indxs[-1]]\n",
    "        data_sources = list(last_record.data.keys()) # list of data sources in recordsData\n",
    "        last_1d_data = last_record.data[data_sources[0]] # taking the last one in the actual used Measurement Group only a digitizer is utilized\n",
    "\n",
    "        peak_integral = np.sum(last_1d_data)\n",
    "        #integration_data[1].append(peak_integral)\n",
    "        integration_data.append((in_data['data'][movable_name], peak_integral))\n",
    "        scan_data_buffer_example2.send((integration_data, ''))\n",
    "        \n",
    "def spectrum_plot_example2(data):\n",
    "\n",
    "    timeseries_data, text = data\n",
    "    \n",
    "    return hv.Curve(timeseries_data).opts(xlabel='Time', ylabel='Intensity (mV)', width=900, height=600, framewise=True) * hv.Scatter(timeseries_data).opts(color='black', size=20, marker='o')\n",
    "\n",
    "\n"
   ]
  },
  {
   "cell_type": "code",
   "execution_count": null,
   "id": "2b9c82de",
   "metadata": {},
   "outputs": [],
   "source": [
    "hv.DynamicMap(spectrum_plot_example2, streams=[scan_data_buffer_example2])"
   ]
  },
  {
   "cell_type": "code",
   "execution_count": null,
   "id": "ff62a25a",
   "metadata": {},
   "outputs": [],
   "source": [
    "#"
   ]
  },
  {
   "cell_type": "markdown",
   "id": "967a3c39",
   "metadata": {},
   "source": [
    "## Example of plotting the signal from manual scan ##"
   ]
  },
  {
   "cell_type": "markdown",
   "id": "de9146ba",
   "metadata": {},
   "source": [
    "Example demonstrate how to plot a data received from a scan which is performed manually."
   ]
  },
  {
   "cell_type": "code",
   "execution_count": null,
   "id": "411a2e33",
   "metadata": {},
   "outputs": [],
   "source": [
    "\"\"\"Plotting integrated data\"\"\"\n",
    "\n",
    "scan_data_buffer_example3=Pipe(data=([], ''))\n",
    "\n",
    "intergation_range = (50,100)\n",
    "manual_scan_data = [] # x, y\n",
    "\n",
    "\n",
    "@callback\n",
    "def on_data_example3(in_data):\n",
    "    \n",
    "    global scan_data_buffer2\n",
    "    global integration_range\n",
    "    global background_range\n",
    "    global integration_data\n",
    "    \n",
    "    global movable_name\n",
    "    \n",
    "    global last_1d_data\n",
    "    \n",
    "    #print('IN DATA: ', in_data)\n",
    "    \n",
    "    if in_data['type'] == 'data_desc': # Started new scan, got data description\n",
    "        #print('Started new scan')\n",
    "        last_1d_data = None               \n",
    "        movable_name = in_data['data']['ref_moveables'][0]\n",
    "        return\n",
    "    \n",
    "    if in_data['type'] == 'record_end' and movable_name is not None: # End of scan\n",
    "        peak_integral = np.sum(last_1d_data)\n",
    "        #integration_data[1].append(peak_integral)\n",
    "        manual_scan_data.append(peak_integral)\n",
    "        scan_data_buffer_example3.send((manual_scan_data, ''))\n",
    "        return\n",
    "    \n",
    "    if in_data['type'] == 'record_data'  and movable_name is not None: # Record data\n",
    "        \n",
    "        #integration_data[0].append(in_data['data'][movable_name])\n",
    "        records_dict = in_data['records']\n",
    "        records_indxs = list(records_dict.keys())\n",
    "        last_record = records_dict[records_indxs[-1]]\n",
    "        data_sources = list(last_record.data.keys()) # list of data sources in recordsData\n",
    "        \n",
    "        if last_1d_data is None:\n",
    "            last_1d_data = last_record.data[data_sources[0]] # taking the last one in the actual used Measurement Group only a digitizer is utilized\n",
    "        else:\n",
    "            last_1d_data += last_record.data[data_sources[0]]\n",
    "            \n",
    "        \n",
    "def spectrum_plot_example3(data):\n",
    "\n",
    "    timeseries_data, text = data\n",
    "    \n",
    "    return hv.Curve(timeseries_data).opts(xlabel='Time', ylabel='Intensity (mV)', width=900, height=600, framewise=True) * hv.Scatter(timeseries_data).opts(color='black', size=20, marker='o')\n",
    "\n"
   ]
  },
  {
   "cell_type": "code",
   "execution_count": null,
   "id": "af3c7fbb",
   "metadata": {},
   "outputs": [],
   "source": [
    "hv.DynamicMap(spectrum_plot_example3, streams=[scan_data_buffer_example3])"
   ]
  },
  {
   "cell_type": "code",
   "execution_count": null,
   "id": "f6dea3fb",
   "metadata": {},
   "outputs": [],
   "source": [
    "#"
   ]
  }
 ],
 "metadata": {
  "kernelspec": {
   "display_name": "Python 3 (ipykernel)",
   "language": "python",
   "name": "python3"
  },
  "language_info": {
   "codemirror_mode": {
    "name": "ipython",
    "version": 3
   },
   "file_extension": ".py",
   "mimetype": "text/x-python",
   "name": "python",
   "nbconvert_exporter": "python",
   "pygments_lexer": "ipython3",
   "version": "3.8.10"
  }
 },
 "nbformat": 4,
 "nbformat_minor": 5
}
