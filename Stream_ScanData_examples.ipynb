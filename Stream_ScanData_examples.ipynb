{
 "cells": [
  {
   "cell_type": "code",
   "execution_count": null,
   "id": "e18263f9",
   "metadata": {},
   "outputs": [],
   "source": [
    "from online_data.scan_monitor.scan_acquisition import callback\n",
    "from online_data.scan_monitor.scan_acquisition import initialize_scan_monitor\n",
    "from online_data.scan_monitor.scan_acquisition import unregister_all\n",
    "\n",
    "import holoviews as hv\n",
    "from holoviews import opts\n",
    "from holoviews import streams\n",
    "from holoviews.streams import Pipe\n",
    "from bokeh.plotting import show\n",
    "hv.extension('bokeh')\n",
    "\n",
    "import numpy as np"
   ]
  },
  {
   "cell_type": "code",
   "execution_count": null,
   "id": "13faf936",
   "metadata": {},
   "outputs": [],
   "source": [
    "initialize_scan_monitor()"
   ]
  },
  {
   "cell_type": "code",
   "execution_count": null,
   "id": "105854d9",
   "metadata": {},
   "outputs": [],
   "source": [
    "unregister_all() #unregisters all callback functions"
   ]
  },
  {
   "cell_type": "code",
   "execution_count": null,
   "id": "d87db659",
   "metadata": {},
   "outputs": [],
   "source": []
  },
  {
   "cell_type": "markdown",
   "id": "99da7d3d",
   "metadata": {},
   "source": [
    "## example of plotting 1d data from digitizer ##"
   ]
  },
  {
   "cell_type": "code",
   "execution_count": null,
   "id": "85775c1b",
   "metadata": {},
   "outputs": [],
   "source": [
    "\"\"\"Plotting 1d data\"\"\"\n",
    "\n",
    "spectrum_data_buffer_example1 = Pipe(data=([], ''))\n",
    "\n",
    "@callback\n",
    "def on_data_example1(in_data):\n",
    "   \n",
    "    #print('IN DATA: ', in_data)\n",
    "    \n",
    "    global spectrum_data_buffer\n",
    "    global scan_number1\n",
    "    \n",
    "    if in_data['type'] == 'data_desc': # Started new scan, got data description\n",
    "        #print('Started new scan')\n",
    "        scan_number1 = in_data['data']['serialno']\n",
    "        return\n",
    "    \n",
    "    if in_data['type'] == 'record_end': # End of scan\n",
    "        #print('Scan ended')\n",
    "        return\n",
    "    \n",
    "    if in_data['type'] == 'record_data': # Record data\n",
    "        records_dict = in_data['records']\n",
    "        records_indxs = list(records_dict.keys())\n",
    "        last_record = records_dict[records_indxs[-1]]\n",
    "        data_sources = list(last_record.data.keys()) # list of data sources in recordsData\n",
    "        last_1d_data = last_record.data[data_sources[0]] # taking the last one in the actual used Measurement Group only a digitizer is utilized\n",
    "        spectrum_data_buffer_example1.send((last_1d_data, str(scan_number1)))\n",
    "        \n",
    "        \n",
    "def spectrum_plot_example1(data):\n",
    "    \n",
    "    timeseries_data, scan_number_str = data\n",
    "    \n",
    "    return hv.Curve(timeseries_data).opts(xlabel='Time', title=f'Scan number: {scan_number_str}', ylabel='Intensity (mV)', width=900, height=300) #, framewise=True)\n",
    "\n",
    "\n"
   ]
  },
  {
   "cell_type": "code",
   "execution_count": null,
   "id": "8b2336fe",
   "metadata": {
    "scrolled": true
   },
   "outputs": [],
   "source": [
    "hv.DynamicMap(spectrum_plot_example1, streams=[spectrum_data_buffer_example1])"
   ]
  },
  {
   "cell_type": "code",
   "execution_count": null,
   "id": "1ab8557d",
   "metadata": {},
   "outputs": [],
   "source": [
    "#"
   ]
  },
  {
   "cell_type": "markdown",
   "id": "955b24ab",
   "metadata": {},
   "source": [
    "## Example of plotting an integrated intensity of peak as a function of motor position within a scan ##"
   ]
  },
  {
   "cell_type": "markdown",
   "id": "18d3077a",
   "metadata": {},
   "source": [
    "Example demonstrate how to plot a data received from scan as a function of position of motor/movable."
   ]
  },
  {
   "cell_type": "code",
   "execution_count": null,
   "id": "5b551104",
   "metadata": {},
   "outputs": [],
   "source": [
    "\"\"\"Plotting integrated data\"\"\"\n",
    "\n",
    "scan_data_buffer_example2=Pipe(data=([], ''))\n",
    "\n",
    "integration_data2 = []\n",
    "\n",
    "movable_name = None\n",
    "\n",
    "@callback\n",
    "def on_data_example2(in_data):\n",
    "    \n",
    "    global scan_data_buffer2\n",
    "    global integration_range\n",
    "    global integration_data2\n",
    "    \n",
    "    global movable_name2\n",
    "    \n",
    "    global scan_number2\n",
    "    \n",
    "    #print('IN DATA: ', in_data)\n",
    "    \n",
    "    if in_data['type'] == 'data_desc': # Started new scan, got data description\n",
    "        #print('Started new scan')\n",
    "        integration_data2 = []                \n",
    "        movable_name2 = in_data['data']['ref_moveables'][0]\n",
    "        \n",
    "        scan_number2 = in_data['data']['serialno']\n",
    "        return\n",
    "    \n",
    "    if in_data['type'] == 'record_end': # End of scan\n",
    "        #print('Scan ended')\n",
    "        return\n",
    "    \n",
    "    if in_data['type'] == 'record_data' and movable_name2 is not None: # Record data\n",
    "        \n",
    "        #integration_data[0].append(in_data['data'][movable_name])\n",
    "        records_dict = in_data['records']\n",
    "        records_indxs = list(records_dict.keys())\n",
    "        last_record = records_dict[records_indxs[-1]]\n",
    "        data_sources = list(last_record.data.keys()) # list of data sources in recordsData\n",
    "\n",
    "        peak_integral = np.sum(last_record.data[data_sources[0]])\n",
    "        integration_data2.append((in_data['data'][movable_name2], peak_integral))\n",
    "        scan_data_buffer_example2.send((integration_data2, str(scan_number2)))\n",
    "        \n",
    "def spectrum_plot_example2(data):\n",
    "\n",
    "    timeseries_data, scan_number_str = data\n",
    "    \n",
    "    return hv.Curve(timeseries_data).opts(xlabel='motor',title=f'Scan number: {scan_number_str}', ylabel='Intensity (a.u.)', width=900, height=600, framewise=True) * hv.Scatter(timeseries_data).opts(color='black', size=20, marker='o')\n",
    "\n",
    "\n"
   ]
  },
  {
   "cell_type": "code",
   "execution_count": null,
   "id": "199448a9",
   "metadata": {},
   "outputs": [],
   "source": [
    "hv.DynamicMap(spectrum_plot_example2, streams=[scan_data_buffer_example2])"
   ]
  },
  {
   "cell_type": "code",
   "execution_count": null,
   "id": "ff62a25a",
   "metadata": {},
   "outputs": [],
   "source": [
    "#"
   ]
  },
  {
   "cell_type": "markdown",
   "id": "967a3c39",
   "metadata": {},
   "source": [
    "## Example of plotting the signal from scans performed manually ##"
   ]
  },
  {
   "cell_type": "markdown",
   "id": "de9146ba",
   "metadata": {},
   "source": [
    "Example demonstrate how to plot a data received from a scan which is performed manually."
   ]
  },
  {
   "cell_type": "code",
   "execution_count": null,
   "id": "411a2e33",
   "metadata": {},
   "outputs": [],
   "source": [
    "\"\"\"Plotting integrated data\"\"\"\n",
    "\n",
    "scan_data_buffer_example3=Pipe(data=([], ''))\n",
    "\n",
    "intergation_range = (50,100)\n",
    "manual_scan_data = [] # x, y\n",
    "\n",
    "\n",
    "@callback\n",
    "def on_data_example3(in_data):\n",
    "    \n",
    "    global scan_data_buffer_example3\n",
    "    global scan_data_accu\n",
    "    global scan_number3\n",
    "    \n",
    "    #print('IN DATA: ', in_data)\n",
    "    \n",
    "    if in_data['type'] == 'data_desc': # Started new scan, got data description\n",
    "        #print('Started new scan')\n",
    "        scan_data_accu = None               \n",
    "        scan_number3 = in_data['data']['serialno']\n",
    "        return\n",
    "    \n",
    "    if in_data['type'] == 'record_end' and scan_number3 is not None: # End of scan\n",
    "        peak_integral = np.sum(scan_data_accu)\n",
    "        #integration_data[1].append(peak_integral)\n",
    "        manual_scan_data.append((scan_number3, peak_integral))\n",
    "        scan_data_buffer_example3.send((manual_scan_data, ''))\n",
    "        return\n",
    "    \n",
    "    if in_data['type'] == 'record_data'  and scan_number3 is not None: # Record data\n",
    "        \n",
    "        #integration_data[0].append(in_data['data'][movable_name])\n",
    "        records_dict = in_data['records']\n",
    "        records_indxs = list(records_dict.keys())\n",
    "        last_record = records_dict[records_indxs[-1]]\n",
    "        data_sources = list(last_record.data.keys()) # list of data sources in recordsData\n",
    "        \n",
    "        if scan_data_accu is None:\n",
    "            scan_data_accu = last_record.data[data_sources[0]] # taking the last one in the actual used Measurement Group only a digitizer is utilized\n",
    "        else:\n",
    "            scan_data_accu += last_record.data[data_sources[0]]\n",
    "            \n",
    "        \n",
    "def spectrum_plot_example3(data):\n",
    "\n",
    "    timeseries_data, text = data\n",
    "    \n",
    "    return hv.Curve(timeseries_data).opts(xlabel='Scan number', ylabel='Intensity (a.u.)', width=900, height=600, framewise=True) * hv.Scatter(timeseries_data).opts(color='black', size=20, marker='o')\n",
    "\n"
   ]
  },
  {
   "cell_type": "code",
   "execution_count": null,
   "id": "af3c7fbb",
   "metadata": {
    "scrolled": true
   },
   "outputs": [],
   "source": [
    "hv.DynamicMap(spectrum_plot_example3, streams=[scan_data_buffer_example3])"
   ]
  },
  {
   "cell_type": "code",
   "execution_count": null,
   "id": "9fc3abec",
   "metadata": {},
   "outputs": [],
   "source": [
    "#"
   ]
  },
  {
   "cell_type": "code",
   "execution_count": null,
   "id": "495ef8ae",
   "metadata": {},
   "outputs": [],
   "source": []
  }
 ],
 "metadata": {
  "kernelspec": {
   "display_name": "Python 3 (ipykernel)",
   "language": "python",
   "name": "python3"
  },
  "language_info": {
   "codemirror_mode": {
    "name": "ipython",
    "version": 3
   },
   "file_extension": ".py",
   "mimetype": "text/x-python",
   "name": "python",
   "nbconvert_exporter": "python",
   "pygments_lexer": "ipython3",
   "version": "3.8.10"
  }
 },
 "nbformat": 4,
 "nbformat_minor": 5
}
